{
 "cells": [
  {
   "cell_type": "code",
   "id": "initial_id",
   "metadata": {
    "collapsed": true,
    "ExecuteTime": {
     "end_time": "2024-08-24T11:28:28.189244Z",
     "start_time": "2024-08-24T11:28:28.181967Z"
    }
   },
   "source": [
    "import pandas as pd\n",
    "import requests\n",
    "from datetime import datetime, timedelta\n",
    "from constants.definitions import API_KEY, ACCOUNT_ID, OANDA_URL\n",
    "import pytz"
   ],
   "outputs": [],
   "execution_count": 71
  },
  {
   "metadata": {
    "ExecuteTime": {
     "end_time": "2024-08-24T11:04:30.060718Z",
     "start_time": "2024-08-24T11:04:30.054715Z"
    }
   },
   "cell_type": "code",
   "source": [
    "# initialise a session and set headers\n",
    "session = requests.Session()\n",
    "session.headers.update({\n",
    "    \"Authorization\": f\"Bearer {API_KEY}\",\n",
    "    \"Content-Type\": \"application/json\",\n",
    "})\n",
    "\n",
    "params = {\n",
    "    'granularity': \"S5\",\n",
    "    'count': 5,\n",
    "    'price': 'BAM',\n",
    "    'from' : datetime(2020, 1, 1).isoformat() + 'Z',\n",
    "}"
   ],
   "id": "6f45ffff3f9c2106",
   "outputs": [],
   "execution_count": 59
  },
  {
   "metadata": {
    "ExecuteTime": {
     "end_time": "2024-08-24T11:04:32.544529Z",
     "start_time": "2024-08-24T11:04:32.538038Z"
    }
   },
   "cell_type": "code",
   "source": "params['from']",
   "id": "2e670b4084699b75",
   "outputs": [
    {
     "data": {
      "text/plain": [
       "'2020-01-01T00:00:00Z'"
      ]
     },
     "execution_count": 60,
     "metadata": {},
     "output_type": "execute_result"
    }
   ],
   "execution_count": 60
  },
  {
   "metadata": {
    "ExecuteTime": {
     "end_time": "2024-08-24T11:04:35.287843Z",
     "start_time": "2024-08-24T11:04:34.925798Z"
    }
   },
   "cell_type": "code",
   "source": "response = session.get(f\"{OANDA_URL}/instruments/GBP_JPY/candles\", params=params)",
   "id": "4e2ee553ec0e95a6",
   "outputs": [],
   "execution_count": 61
  },
  {
   "metadata": {
    "ExecuteTime": {
     "end_time": "2024-08-24T11:04:37.182778Z",
     "start_time": "2024-08-24T11:04:37.177890Z"
    }
   },
   "cell_type": "code",
   "source": [
    "if \"candles\" in response.json():\n",
    "    print(\"Tri\")"
   ],
   "id": "39c8672a2d896e75",
   "outputs": [
    {
     "name": "stdout",
     "output_type": "stream",
     "text": [
      "Tri\n"
     ]
    }
   ],
   "execution_count": 62
  },
  {
   "metadata": {
    "ExecuteTime": {
     "end_time": "2024-08-24T11:08:43.424416Z",
     "start_time": "2024-08-24T11:08:43.400420Z"
    }
   },
   "cell_type": "code",
   "source": [
    "df = pd.DataFrame(response.json())\n",
    "# Extract and format the relevant columns\n",
    "# df['time'] = pd.to_datetime(df['time'])\n",
    "# df['open'] = df['mid'].apply(lambda x: x['o'])\n",
    "# df['high'] = df['mid'].apply(lambda x: x['h'])\n",
    "# df['low'] = df['mid'].apply(lambda x: x['l'])\n",
    "# df['close'] = df['mid'].apply(lambda x: x['c'])\n",
    "# df = df[['volume', 'time', 'open', 'high', 'low', 'close']]\n",
    "\n",
    "df"
   ],
   "id": "ddac06ad8383edb9",
   "outputs": [
    {
     "data": {
      "text/plain": [
       "  instrument granularity                                            candles\n",
       "0    GBP_JPY          S5  {'complete': True, 'volume': 1, 'time': '2020-...\n",
       "1    GBP_JPY          S5  {'complete': True, 'volume': 2, 'time': '2020-...\n",
       "2    GBP_JPY          S5  {'complete': True, 'volume': 2, 'time': '2020-...\n",
       "3    GBP_JPY          S5  {'complete': True, 'volume': 2, 'time': '2020-...\n",
       "4    GBP_JPY          S5  {'complete': True, 'volume': 3, 'time': '2020-..."
      ],
      "text/html": [
       "<div>\n",
       "<style scoped>\n",
       "    .dataframe tbody tr th:only-of-type {\n",
       "        vertical-align: middle;\n",
       "    }\n",
       "\n",
       "    .dataframe tbody tr th {\n",
       "        vertical-align: top;\n",
       "    }\n",
       "\n",
       "    .dataframe thead th {\n",
       "        text-align: right;\n",
       "    }\n",
       "</style>\n",
       "<table border=\"1\" class=\"dataframe\">\n",
       "  <thead>\n",
       "    <tr style=\"text-align: right;\">\n",
       "      <th></th>\n",
       "      <th>instrument</th>\n",
       "      <th>granularity</th>\n",
       "      <th>candles</th>\n",
       "    </tr>\n",
       "  </thead>\n",
       "  <tbody>\n",
       "    <tr>\n",
       "      <th>0</th>\n",
       "      <td>GBP_JPY</td>\n",
       "      <td>S5</td>\n",
       "      <td>{'complete': True, 'volume': 1, 'time': '2020-...</td>\n",
       "    </tr>\n",
       "    <tr>\n",
       "      <th>1</th>\n",
       "      <td>GBP_JPY</td>\n",
       "      <td>S5</td>\n",
       "      <td>{'complete': True, 'volume': 2, 'time': '2020-...</td>\n",
       "    </tr>\n",
       "    <tr>\n",
       "      <th>2</th>\n",
       "      <td>GBP_JPY</td>\n",
       "      <td>S5</td>\n",
       "      <td>{'complete': True, 'volume': 2, 'time': '2020-...</td>\n",
       "    </tr>\n",
       "    <tr>\n",
       "      <th>3</th>\n",
       "      <td>GBP_JPY</td>\n",
       "      <td>S5</td>\n",
       "      <td>{'complete': True, 'volume': 2, 'time': '2020-...</td>\n",
       "    </tr>\n",
       "    <tr>\n",
       "      <th>4</th>\n",
       "      <td>GBP_JPY</td>\n",
       "      <td>S5</td>\n",
       "      <td>{'complete': True, 'volume': 3, 'time': '2020-...</td>\n",
       "    </tr>\n",
       "  </tbody>\n",
       "</table>\n",
       "</div>"
      ]
     },
     "execution_count": 64,
     "metadata": {},
     "output_type": "execute_result"
    }
   ],
   "execution_count": 64
  },
  {
   "metadata": {
    "ExecuteTime": {
     "end_time": "2024-08-24T11:40:32.352924Z",
     "start_time": "2024-08-24T11:40:32.337948Z"
    }
   },
   "cell_type": "code",
   "source": [
    "def fetch_candles(instrument: str, start_date: str, end_date: str, granularity: str, oanda_url: str, api_key: str) -> pd.DataFrame:\n",
    "    # session = requests.Session()\n",
    "    session.headers.update({\n",
    "        \"Authorization\": f\"Bearer {api_key}\",\n",
    "        \"Content-Type\": \"application/json\",\n",
    "    })\n",
    "\n",
    "    start_date = datetime.fromisoformat(start_date).replace(tzinfo=pytz.UTC)\n",
    "    end_date = datetime.fromisoformat(end_date).replace(tzinfo=pytz.UTC)\n",
    "    \n",
    "    url = f\"{oanda_url}/instruments/{instrument}/candles\"\n",
    "    all_candles = []\n",
    "    current_date = start_date\n",
    "    \n",
    "    print(f\"Starting to fetch candles from {start_date} to {end_date} of {instrument} with granularity {granularity}\")\n",
    "    \n",
    "    while current_date < end_date:\n",
    "        print(f\"Now fetching candles for {current_date}\")\n",
    "        params = {\n",
    "            'granularity': granularity,\n",
    "            'count': 5000,\n",
    "            'price': 'BAM',\n",
    "            'from' : current_date.isoformat(),\n",
    "        }\n",
    "        \n",
    "        res = session.get(url, params=params)\n",
    "        if res.status_code != 200:\n",
    "            print(f\"Error in fetch_candles(): {res.status_code}\")\n",
    "        if not \"candles\" in res.json():\n",
    "            print(f\"Error in fetch_candles(): response object has no 'candles' key. Current date: {current_date}\")\n",
    "        else:\n",
    "            data = res.json()['candles']\n",
    "            all_candles.extend(data)\n",
    "            last_candle_time = pd.to_datetime(data[-1]['time'])\n",
    "            current_date = last_candle_time + timedelta(seconds=1)\n",
    "            print(f\"Finished fetching candles for {current_date}\")\n",
    "        \n",
    "    else:\n",
    "        return pd.DataFrame(all_candles)"
   ],
   "id": "cba50f89b44e4513",
   "outputs": [],
   "execution_count": 83
  },
  {
   "metadata": {
    "ExecuteTime": {
     "end_time": "2024-08-24T11:40:35.669066Z",
     "start_time": "2024-08-24T11:40:35.337410Z"
    }
   },
   "cell_type": "code",
   "source": [
    "candles_df = fetch_candles(\n",
    "    instrument='GBP_JPY',\n",
    "    start_date=\"2020-01-01\",\n",
    "    end_date=\"2020-01-02\",\n",
    "    granularity='H1',\n",
    "    oanda_url=OANDA_URL,\n",
    "    api_key=API_KEY\n",
    ")"
   ],
   "id": "6e77b06a500c36ca",
   "outputs": [
    {
     "name": "stdout",
     "output_type": "stream",
     "text": [
      "Starting to fetch candles from 2020-01-01 00:00:00+00:00 to 2020-01-02 00:00:00+00:00 of GBP_JPY with granularity H1\n",
      "Now fetching candles for 2020-01-01 00:00:00+00:00\n",
      "Finished fetching candles for 2020-01-02 02:00:01+00:00\n"
     ]
    }
   ],
   "execution_count": 84
  },
  {
   "metadata": {
    "ExecuteTime": {
     "end_time": "2024-08-24T11:35:26.991244Z",
     "start_time": "2024-08-24T11:35:26.984312Z"
    }
   },
   "cell_type": "code",
   "source": "candles_df.time.max()",
   "id": "9344cfbca15fd5d2",
   "outputs": [
    {
     "data": {
      "text/plain": [
       "'2020-10-20T05:00:00.000000000Z'"
      ]
     },
     "execution_count": 82,
     "metadata": {},
     "output_type": "execute_result"
    }
   ],
   "execution_count": 82
  },
  {
   "metadata": {
    "ExecuteTime": {
     "end_time": "2024-08-24T11:55:07.020299Z",
     "start_time": "2024-08-24T11:55:07.014459Z"
    }
   },
   "cell_type": "code",
   "source": [
    "date1 = datetime.fromisoformat(\"2020-01-01\").replace(tzinfo=pytz.UTC)\n",
    "date2 = datetime.fromisoformat(\"2020-01-02\").replace(tzinfo=pytz.UTC)"
   ],
   "id": "18d19c954b2ee5c6",
   "outputs": [],
   "execution_count": 113
  },
  {
   "metadata": {
    "ExecuteTime": {
     "end_time": "2024-08-24T11:55:09.507910Z",
     "start_time": "2024-08-24T11:55:09.503279Z"
    }
   },
   "cell_type": "code",
   "source": "diff=date2 - date1",
   "id": "59346b7ef7a0aace",
   "outputs": [],
   "execution_count": 114
  },
  {
   "metadata": {
    "ExecuteTime": {
     "end_time": "2024-08-24T11:55:10.439352Z",
     "start_time": "2024-08-24T11:55:10.428958Z"
    }
   },
   "cell_type": "code",
   "source": "diff.total_seconds() / 5",
   "id": "e6d3bf6502a6f291",
   "outputs": [
    {
     "data": {
      "text/plain": [
       "17280.0"
      ]
     },
     "execution_count": 115,
     "metadata": {},
     "output_type": "execute_result"
    }
   ],
   "execution_count": 115
  },
  {
   "metadata": {
    "ExecuteTime": {
     "end_time": "2024-08-24T11:56:39.205299Z",
     "start_time": "2024-08-24T11:56:39.200901Z"
    }
   },
   "cell_type": "code",
   "source": [
    "params = {\n",
    "    'granularity': 'H1',\n",
    "    'from': date1.isoformat(),\n",
    "    'to': date2.isoformat(),\n",
    "    'price': 'B',\n",
    "}"
   ],
   "id": "77205f1ba6fa0de2",
   "outputs": [],
   "execution_count": 120
  },
  {
   "metadata": {
    "ExecuteTime": {
     "end_time": "2024-08-24T11:56:42.832895Z",
     "start_time": "2024-08-24T11:56:42.547247Z"
    }
   },
   "cell_type": "code",
   "source": "response = session.get(f\"{OANDA_URL}/instruments/GBP_JPY/candles\", params=params)",
   "id": "80e373ad036704b3",
   "outputs": [],
   "execution_count": 121
  },
  {
   "metadata": {
    "ExecuteTime": {
     "end_time": "2024-08-24T11:56:52.299850Z",
     "start_time": "2024-08-24T11:56:52.291814Z"
    }
   },
   "cell_type": "code",
   "source": "len(response.json())",
   "id": "9f10cfe66b89834e",
   "outputs": [
    {
     "data": {
      "text/plain": [
       "3"
      ]
     },
     "execution_count": 123,
     "metadata": {},
     "output_type": "execute_result"
    }
   ],
   "execution_count": 123
  },
  {
   "metadata": {
    "ExecuteTime": {
     "end_time": "2024-08-24T11:57:01.573577Z",
     "start_time": "2024-08-24T11:57:01.561712Z"
    }
   },
   "cell_type": "code",
   "source": [
    "df = pd.DataFrame(response.json()[\"candles\"])\n",
    "df"
   ],
   "id": "321d4549db65792e",
   "outputs": [
    {
     "data": {
      "text/plain": [
       "   complete  volume                            time  \\\n",
       "0      True     874  2020-01-01T22:00:00.000000000Z   \n",
       "1      True     807  2020-01-01T23:00:00.000000000Z   \n",
       "\n",
       "                                                 bid  \n",
       "0  {'o': '144.032', 'h': '144.137', 'l': '143.769...  \n",
       "1  {'o': '143.965', 'h': '144.073', 'l': '143.880...  "
      ],
      "text/html": [
       "<div>\n",
       "<style scoped>\n",
       "    .dataframe tbody tr th:only-of-type {\n",
       "        vertical-align: middle;\n",
       "    }\n",
       "\n",
       "    .dataframe tbody tr th {\n",
       "        vertical-align: top;\n",
       "    }\n",
       "\n",
       "    .dataframe thead th {\n",
       "        text-align: right;\n",
       "    }\n",
       "</style>\n",
       "<table border=\"1\" class=\"dataframe\">\n",
       "  <thead>\n",
       "    <tr style=\"text-align: right;\">\n",
       "      <th></th>\n",
       "      <th>complete</th>\n",
       "      <th>volume</th>\n",
       "      <th>time</th>\n",
       "      <th>bid</th>\n",
       "    </tr>\n",
       "  </thead>\n",
       "  <tbody>\n",
       "    <tr>\n",
       "      <th>0</th>\n",
       "      <td>True</td>\n",
       "      <td>874</td>\n",
       "      <td>2020-01-01T22:00:00.000000000Z</td>\n",
       "      <td>{'o': '144.032', 'h': '144.137', 'l': '143.769...</td>\n",
       "    </tr>\n",
       "    <tr>\n",
       "      <th>1</th>\n",
       "      <td>True</td>\n",
       "      <td>807</td>\n",
       "      <td>2020-01-01T23:00:00.000000000Z</td>\n",
       "      <td>{'o': '143.965', 'h': '144.073', 'l': '143.880...</td>\n",
       "    </tr>\n",
       "  </tbody>\n",
       "</table>\n",
       "</div>"
      ]
     },
     "execution_count": 124,
     "metadata": {},
     "output_type": "execute_result"
    }
   ],
   "execution_count": 124
  },
  {
   "metadata": {},
   "cell_type": "code",
   "outputs": [],
   "execution_count": null,
   "source": "",
   "id": "69ff48a267acd066"
  }
 ],
 "metadata": {
  "kernelspec": {
   "display_name": "Python 3",
   "language": "python",
   "name": "python3"
  },
  "language_info": {
   "codemirror_mode": {
    "name": "ipython",
    "version": 2
   },
   "file_extension": ".py",
   "mimetype": "text/x-python",
   "name": "python",
   "nbconvert_exporter": "python",
   "pygments_lexer": "ipython2",
   "version": "2.7.6"
  }
 },
 "nbformat": 4,
 "nbformat_minor": 5
}
